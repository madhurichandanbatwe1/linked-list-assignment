{
 "cells": [
  {
   "cell_type": "markdown",
   "id": "609d84cd-fc23-4a50-b24b-e5f5f710bb67",
   "metadata": {},
   "source": [
    "1 Define doubly linked list"
   ]
  },
  {
   "cell_type": "code",
   "execution_count": 2,
   "id": "23d16999-db87-4f0b-8099-fe2f8e324065",
   "metadata": {},
   "outputs": [],
   "source": [
    "class DoublyLinkedListNode:\n",
    "    def __init__(self, data):\n",
    "        self.data = data\n",
    "        self.next = None\n",
    "        self.prev = None\n"
   ]
  },
  {
   "cell_type": "code",
   "execution_count": 3,
   "id": "e2006dd7-1943-4e7f-a3f7-ffc7b513f6b6",
   "metadata": {},
   "outputs": [],
   "source": [
    "def print_doubly_linked_list(head):\n",
    "    while head:\n",
    "        print(f\"{head.data}\", end=\" <-> \" if head.next else \"\\n\")\n",
    "        head = head.next\n",
    "\n",
    "def create_doubly_linked_list(values):\n",
    "    if not values:\n",
    "        return None\n",
    "    head = DoublyLinkedListNode(values[0])\n",
    "    current = head\n",
    "    for value in values[1:]:\n",
    "        new_node = DoublyLinkedListNode(value)\n",
    "        current.next = new_node\n",
    "        new_node.prev = current\n",
    "        current = new_node\n",
    "    return head\n",
    "\n",
    "def create_list_node(values):\n",
    "    if not values:\n",
    "        return None\n",
    "    head = ListNode(values[0])\n",
    "    current = head\n",
    "    for value in values[1:]:\n",
    "        current.next = ListNode(value)\n",
    "        current = current.next\n",
    "    return head\n"
   ]
  },
  {
   "cell_type": "markdown",
   "id": "185fded7-c21e-47f9-950e-2c04fb885006",
   "metadata": {},
   "source": [
    "2 Write a function to reverse a linked list in-place"
   ]
  },
  {
   "cell_type": "code",
   "execution_count": 4,
   "id": "66cd9a79-fbd8-4bdb-987b-2862cc1ce44c",
   "metadata": {},
   "outputs": [
    {
     "name": "stdout",
     "output_type": "stream",
     "text": [
      "Original List:\n",
      "1 <-> 2 <-> 3 <-> 4\n",
      "Reversed List:\n",
      "4 <-> 3 <-> 2 <-> 1\n"
     ]
    }
   ],
   "source": [
    "def reverse(head):\n",
    "    prev = None\n",
    "    current = head\n",
    "    while current:\n",
    "        next_node = current.next\n",
    "        current.next = prev\n",
    "        current.prev = next_node\n",
    "        prev = current\n",
    "        current = next_node\n",
    "    return prev\n",
    "# Create a doubly linked list: 1 <-> 2 <-> 3 <-> 4\n",
    "head = create_doubly_linked_list([1, 2, 3, 4])\n",
    "print(\"Original List:\")\n",
    "print_doubly_linked_list(head)\n",
    "\n",
    "# Reverse the list\n",
    "reversed_head = reverse(head)\n",
    "print(\"Reversed List:\")\n",
    "print_doubly_linked_list(reversed_head)\n"
   ]
  },
  {
   "cell_type": "markdown",
   "id": "75b44eb5-92ad-496e-99e9-b48a75215de4",
   "metadata": {},
   "source": [
    "3. Detect cycle in a linked list"
   ]
  },
  {
   "cell_type": "code",
   "execution_count": 9,
   "id": "8c8383ac-54b9-404b-abae-f61aa1207814",
   "metadata": {},
   "outputs": [
    {
     "name": "stdout",
     "output_type": "stream",
     "text": [
      "Has Cycle: False\n",
      "Has Cycle: True\n"
     ]
    }
   ],
   "source": [
    "def has_cycle(head):\n",
    "    slow = head\n",
    "    fast = head\n",
    "    while fast and fast.next:\n",
    "        slow = slow.next\n",
    "        fast = fast.next.next\n",
    "        if slow == fast:\n",
    "            return True\n",
    "    return False\n",
    "# Create a list with no cycle\n",
    "head = create_doubly_linked_list([1, 2, 3, 4])\n",
    "print(\"Has Cycle:\", has_cycle(head))  # Output: False\n",
    "\n",
    "# Create a list with a cycle for testing\n",
    "head = create_doubly_linked_list([1, 2, 3, 4])\n",
    "tail = head\n",
    "while tail.next:\n",
    "    tail = tail.next\n",
    "tail.next = head.next.next  # Create a cycle\n",
    "print(\"Has Cycle:\", has_cycle(head))  # Output: True\n"
   ]
  },
  {
   "cell_type": "markdown",
   "id": "c4d3d317-c377-4c6f-b81e-c95a1ee1e08d",
   "metadata": {},
   "source": [
    "4.Merge two sorted linked list into one"
   ]
  },
  {
   "cell_type": "code",
   "execution_count": 10,
   "id": "27fae47c-9be9-4a6f-97b3-f0010e29e603",
   "metadata": {},
   "outputs": [
    {
     "name": "stdout",
     "output_type": "stream",
     "text": [
      "Merged List:\n",
      "1 <-> 2 <-> 3 <-> 4 <-> 5 <-> 6 <-> 7 <-> 8\n"
     ]
    }
   ],
   "source": [
    "def merge_sorted_lists(l1, l2):\n",
    "    dummy = DoublyLinkedListNode(0)\n",
    "    tail = dummy\n",
    "    while l1 and l2:\n",
    "        if l1.data < l2.data:\n",
    "            tail.next = l1\n",
    "            l1.prev = tail\n",
    "            l1 = l1.next\n",
    "        else:\n",
    "            tail.next = l2\n",
    "            l2.prev = tail\n",
    "            l2 = l2.next\n",
    "        tail = tail.next\n",
    "    if l1:\n",
    "        tail.next = l1\n",
    "        l1.prev = tail\n",
    "    if l2:\n",
    "        tail.next = l2\n",
    "        l2.prev = tail\n",
    "    return dummy.next\n",
    "# Create two sorted linked lists\n",
    "l1 = create_doubly_linked_list([1, 3, 5, 7])\n",
    "l2 = create_doubly_linked_list([2, 4, 6, 8])\n",
    "\n",
    "# Merge the two lists\n",
    "merged_head = merge_sorted_lists(l1, l2)\n",
    "print(\"Merged List:\")\n",
    "print_doubly_linked_list(merged_head)\n"
   ]
  },
  {
   "cell_type": "markdown",
   "id": "c42487b4-89b6-42c4-b84e-3a339cc0dfac",
   "metadata": {},
   "source": [
    "5 Write a function to remove nth node from the end in a linked list"
   ]
  },
  {
   "cell_type": "code",
   "execution_count": 11,
   "id": "0e65a0f3-0331-4b96-ae8e-ec2b7c644a7c",
   "metadata": {},
   "outputs": [
    {
     "name": "stdout",
     "output_type": "stream",
     "text": [
      "Original List:\n",
      "1 <-> 2 <-> 3 <-> 4 <-> 5\n",
      "List After Removing 2nd Node from End:\n",
      "1 <-> 2 <-> 3 <-> 5\n"
     ]
    }
   ],
   "source": [
    "def remove_nth_from_end(head, n):\n",
    "    dummy = DoublyLinkedListNode(0)\n",
    "    dummy.next = head\n",
    "    first = dummy\n",
    "    second = dummy\n",
    "    for _ in range(n + 1):\n",
    "        first = first.next\n",
    "    while first:\n",
    "        first = first.next\n",
    "        second = second.next\n",
    "    second.next = second.next.next\n",
    "    if second.next:\n",
    "        second.next.prev = second\n",
    "    return dummy.next\n",
    "# Create a list: 1 <-> 2 <-> 3 <-> 4 <-> 5\n",
    "head = create_doubly_linked_list([1, 2, 3, 4, 5])\n",
    "print(\"Original List:\")\n",
    "print_doubly_linked_list(head)\n",
    "\n",
    "# Remove 2nd node from end\n",
    "updated_head = remove_nth_from_end(head, 2)\n",
    "print(\"List After Removing 2nd Node from End:\")\n",
    "print_doubly_linked_list(updated_head)\n"
   ]
  },
  {
   "cell_type": "markdown",
   "id": "230a6f45-536e-4132-aa11-bd0fc34024f0",
   "metadata": {},
   "source": [
    "6 Remove duplicates from a sorted linked list"
   ]
  },
  {
   "cell_type": "code",
   "execution_count": 12,
   "id": "892e1256-fda8-4db5-bfa6-d44109013908",
   "metadata": {},
   "outputs": [
    {
     "name": "stdout",
     "output_type": "stream",
     "text": [
      "Original List:\n",
      "1 <-> 1 <-> 2 <-> 3 <-> 3\n",
      "List After Removing Duplicates:\n",
      "1 <-> 2 <-> 3\n"
     ]
    }
   ],
   "source": [
    "def remove_duplicates(head):\n",
    "    current = head\n",
    "    while current and current.next:\n",
    "        if current.data == current.next.data:\n",
    "            current.next = current.next.next\n",
    "            if current.next:\n",
    "                current.next.prev = current\n",
    "        else:\n",
    "            current = current.next\n",
    "    return head\n",
    "# Create a sorted list with duplicates: 1 <-> 1 <-> 2 <-> 3 <-> 3\n",
    "head = create_doubly_linked_list([1, 1, 2, 3, 3])\n",
    "print(\"Original List:\")\n",
    "print_doubly_linked_list(head)\n",
    "\n",
    "# Remove duplicates\n",
    "updated_head = remove_duplicates(head)\n",
    "print(\"List After Removing Duplicates:\")\n",
    "print_doubly_linked_list(updated_head)\n"
   ]
  },
  {
   "cell_type": "markdown",
   "id": "ab43e317-47d6-4019-b376-4b7bdbd5fdf8",
   "metadata": {},
   "source": [
    "7. Find the intersection of the two linked lists"
   ]
  },
  {
   "cell_type": "code",
   "execution_count": 13,
   "id": "61f4f439-6a14-468f-be58-f9e3dbc71c55",
   "metadata": {},
   "outputs": [
    {
     "name": "stdout",
     "output_type": "stream",
     "text": [
      "Intersection Node Data: 4\n"
     ]
    }
   ],
   "source": [
    "def get_intersection_node(headA, headB):\n",
    "    if not headA or not headB:\n",
    "        return None\n",
    "    a, b = headA, headB\n",
    "    while a != b:\n",
    "        a = a.next if a else headB\n",
    "        b = b.next if b else headA\n",
    "    return a\n",
    "# Create two lists with an intersection\n",
    "list1 = create_doubly_linked_list([1, 2, 3, 4, 5])\n",
    "list2 = create_doubly_linked_list([9, 8])\n",
    "intersection = list1.next.next.next  # Intersection node\n",
    "list2.next.next = intersection\n",
    "\n",
    "# Find the intersection\n",
    "intersection_node = get_intersection_node(list1, list2)\n",
    "print(\"Intersection Node Data:\", intersection_node.data if intersection_node else \"None\")\n"
   ]
  },
  {
   "cell_type": "markdown",
   "id": "145b16a8-4d71-4867-b8db-121112f50956",
   "metadata": {},
   "source": [
    "8 Rotate a linked list by k positions to the right"
   ]
  },
  {
   "cell_type": "code",
   "execution_count": 14,
   "id": "6b5373d5-13da-454d-9080-fa7aca1294d5",
   "metadata": {},
   "outputs": [
    {
     "name": "stdout",
     "output_type": "stream",
     "text": [
      "Original List:\n",
      "1 <-> 2 <-> 3 <-> 4 <-> 5\n",
      "List After Rotation by 2 Positions:\n",
      "4 <-> 5 <-> 1 <-> 2 <-> 3\n"
     ]
    }
   ],
   "source": [
    "def rotate_right(head, k):\n",
    "    if not head or k == 0:\n",
    "        return head\n",
    "    # Get the length of the list\n",
    "    old_tail = head\n",
    "    length = 1\n",
    "    while old_tail.next:\n",
    "        old_tail = old_tail.next\n",
    "        length += 1\n",
    "    # Make the list circular\n",
    "    old_tail.next = head\n",
    "    k = k % length\n",
    "    steps_to_new_head = length - k\n",
    "    new_tail = head\n",
    "    for _ in range(steps_to_new_head - 1):\n",
    "        new_tail = new_tail.next\n",
    "    new_head = new_tail.next\n",
    "    new_tail.next = None\n",
    "    return new_head\n",
    "# Create a list: 1 <-> 2 <-> 3 <-> 4 <-> 5\n",
    "head = create_doubly_linked_list([1, 2, 3, 4, 5])\n",
    "print(\"Original List:\")\n",
    "print_doubly_linked_list(head)\n",
    "\n",
    "# Rotate the list by 2 positions\n",
    "rotated_head = rotate_right(head, 2)\n",
    "print(\"List After Rotation by 2 Positions:\")\n",
    "print_doubly_linked_list(rotated_head)\n"
   ]
  },
  {
   "cell_type": "markdown",
   "id": "41356a42-e690-4abd-99e4-c12024ba0247",
   "metadata": {},
   "source": [
    "9 Add Two Numbers Represented by LinkedLists"
   ]
  },
  {
   "cell_type": "code",
   "execution_count": 15,
   "id": "a61c7b70-1a96-45a8-b847-7924d7b164e3",
   "metadata": {},
   "outputs": [
    {
     "name": "stdout",
     "output_type": "stream",
     "text": [
      "Sum of Two Numbers:\n",
      "7 -> 0 -> 8\n"
     ]
    }
   ],
   "source": [
    "class ListNode:\n",
    "    def __init__(self, data=0, next=None):\n",
    "        self.data = data\n",
    "        self.next = next\n",
    "\n",
    "def add_two_numbers(l1, l2):\n",
    "    dummy = ListNode(0)\n",
    "    current = dummy\n",
    "    carry = 0\n",
    "    while l1 or l2 or carry:\n",
    "        val1 = (l1.data if l1 else 0)\n",
    "        val2 = (l2.data if l2 else 0)\n",
    "        carry, out = divmod(val1 + val2 + carry, 10)\n",
    "        current.next = ListNode(out)\n",
    "        current = current.next\n",
    "        if l1: l1 = l1.next\n",
    "        if l2: l2 = l2.next\n",
    "    return dummy.next\n",
    "# Create two linked lists representing numbers 342 and 465\n",
    "l1 = create_list_node([2, 4, 3])  # Represents 342\n",
    "l2 = create_list_node([5, 6, 4])  # Represents 465\n",
    "\n",
    "# Add the two numbers\n",
    "result_head = add_two_numbers(l1, l2)\n",
    "print(\"Sum of Two Numbers:\")\n",
    "while result_head:\n",
    "    print(result_head.data, end=\" -> \" if result_head.next else \"\\n\")\n",
    "    result_head = result_head.next\n"
   ]
  },
  {
   "cell_type": "markdown",
   "id": "a8871be1-4e36-4bc9-a529-3b3447bb95e4",
   "metadata": {},
   "source": [
    "10.Clone a Linked List with next a\u0007d Random Pointer"
   ]
  },
  {
   "cell_type": "code",
   "execution_count": 16,
   "id": "4089042d-89d0-4edf-9e0e-659d5399fd66",
   "metadata": {},
   "outputs": [
    {
     "name": "stdout",
     "output_type": "stream",
     "text": [
      "Cloned List:\n",
      "Node data: 1, Random data: 3\n",
      "Node data: 2, Random data: 1\n",
      "Node data: 3, Random data: 2\n"
     ]
    }
   ],
   "source": [
    "class RandomListNode:\n",
    "    def __init__(self, data=0, next=None, random=None):\n",
    "        self.data = data\n",
    "        self.next = next\n",
    "        self.random = random\n",
    "\n",
    "def copy_random_list(head):\n",
    "    if not head:\n",
    "        return None\n",
    "    \n",
    "    # Step 1: Create a new copy of each node and insert it after the original node\n",
    "    current = head\n",
    "    while current:\n",
    "        new_node = RandomListNode(current.data, current.next)\n",
    "        current.next = new_node\n",
    "        current = new_node.next\n",
    "    \n",
    "    # Step 2: Assign the random pointers for the new nodes\n",
    "    current = head\n",
    "    while current:\n",
    "        new_node = current.next\n",
    "        new_node.random = current.random.next if current.random else None\n",
    "        current = new_node.next\n",
    "    \n",
    "    # Step 3: Separate the two lists\n",
    "    old_list = head\n",
    "    new_list = head.next\n",
    "    new_head = new_list\n",
    "    while old_list:\n",
    "        old_list.next = old_list.next.next\n",
    "        new_list.next = new_list.next.next if new_list.next else None\n",
    "        old_list = old_list.next\n",
    "        new_list = new_list.next\n",
    "    \n",
    "    return new_head\n",
    "# Create a list with next and random pointers\n",
    "node1 = RandomListNode(1)\n",
    "node2 = RandomListNode(2)\n",
    "node3 = RandomListNode(3)\n",
    "node1.next = node2\n",
    "node2.next = node3\n",
    "node1.random = node3\n",
    "node2.random = node1\n",
    "node3.random = node2\n",
    "\n",
    "# Clone the list\n",
    "cloned_head = copy_random_list(node1)\n",
    "print(\"Cloned List:\")\n",
    "current = cloned_head\n",
    "while current:\n",
    "    random_data = current.random.data if current.random else \"None\"\n",
    "    print(f\"Node data: {current.data}, Random data: {random_data}\")\n",
    "    current = current.next\n"
   ]
  },
  {
   "cell_type": "code",
   "execution_count": null,
   "id": "496d9696-f0e8-47c0-a38e-d9086b679dac",
   "metadata": {},
   "outputs": [],
   "source": []
  }
 ],
 "metadata": {
  "kernelspec": {
   "display_name": "Python 3 (ipykernel)",
   "language": "python",
   "name": "python3"
  },
  "language_info": {
   "codemirror_mode": {
    "name": "ipython",
    "version": 3
   },
   "file_extension": ".py",
   "mimetype": "text/x-python",
   "name": "python",
   "nbconvert_exporter": "python",
   "pygments_lexer": "ipython3",
   "version": "3.11.7"
  }
 },
 "nbformat": 4,
 "nbformat_minor": 5
}
